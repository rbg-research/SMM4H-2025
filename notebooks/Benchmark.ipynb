{
  "nbformat": 4,
  "nbformat_minor": 0,
  "metadata": {
    "colab": {
      "provenance": [],
      "gpuType": "T4"
    },
    "kernelspec": {
      "name": "python3",
      "display_name": "Python 3"
    },
    "language_info": {
      "name": "python"
    },
    "accelerator": "GPU"
  },
  "cells": [
    {
      "cell_type": "code",
      "source": [
        "!pip install -q -U bitsandbytes"
      ],
      "metadata": {
        "id": "RXaGxALpB36W"
      },
      "execution_count": 8,
      "outputs": []
    },
    {
      "cell_type": "code",
      "source": [
        "!pip install -q nltk rouge-score rank_bm25"
      ],
      "metadata": {
        "id": "LBzCWG9bJqXO"
      },
      "execution_count": 7,
      "outputs": []
    },
    {
      "cell_type": "markdown",
      "source": [
        "##LOAD THE MODELS"
      ],
      "metadata": {
        "id": "apdCMAHaLEzP"
      }
    },
    {
      "cell_type": "code",
      "execution_count": 1,
      "metadata": {
        "colab": {
          "base_uri": "https://localhost:8080/",
          "height": 518,
          "referenced_widgets": [
            "50f8634a9a704d359c39e190fcdf81ff",
            "938de93966ec4fbf91ccb1ed039aae39",
            "e5b18f60e0fa4d988b2e5fc0ec4c2285",
            "8acaf18870a84ac398e09b5cd5ed2ffe",
            "7feb0f3a23184a8494c1b17dbeb32a12",
            "dd2da49587f9439096f333bfd79e55c2",
            "aa6e7c96e76942828742a6685450def6",
            "ea6350dd95a349468788f885a1341baf",
            "53df6ded0cea4518a3ea4d153d0d0c66",
            "c15ee126366445f98dfcc579afddf972",
            "c6398eb641ab40e59c542db2b435f84e"
          ]
        },
        "id": "mMinEAWkb_6J",
        "outputId": "fd37c228-7a42-4751-d9ea-19a6ecdf60c4"
      },
      "outputs": [
        {
          "output_type": "display_data",
          "data": {
            "text/plain": [
              "Loading checkpoint shards:   0%|          | 0/2 [00:00<?, ?it/s]"
            ],
            "application/vnd.jupyter.widget-view+json": {
              "version_major": 2,
              "version_minor": 0,
              "model_id": "50f8634a9a704d359c39e190fcdf81ff"
            }
          },
          "metadata": {}
        },
        {
          "output_type": "stream",
          "name": "stdout",
          "text": [
            "List the primary and secondary medications of insomnia detection and treatment.\n",
            "\n",
            "**Primary Medications:**\n",
            "\n",
            "* **Benzodiazepines:**\n",
            "    * **Mechanism:** Enhance the effects of GABA, a neurotransmitter that inhibits neuronal activity.\n",
            "    * **Examples:** Diazepam (Valium), Lorazepam (Ativan), Alprazolam (Xanax)\n",
            "* **Nonbenzodiazepine Hypnotics:**\n",
            "    * **Mechanism:**  Varying mechanisms, often targeting GABA receptors or serotonin receptors.\n",
            "    * **Examples:** Zolpidem (Ambien), Zaleplon (Sonata), Eszopiclone (Lunesta)\n",
            "* **Other Medications:**\n",
            "    * **Melatonin:** A hormone that regulates sleep-wake cycles.\n",
            "    * **Antidepressants:** Certain antidepressants, particularly selective serotonin reuptake inhibitors (SSRIs), can improve sleep.\n",
            "\n",
            "**Secondary Medications:**\n",
            "\n",
            "* **Antihistamines:** Can help with sleep by reducing allergy symptoms.\n",
            "* **Anti-anxiety Medications:** May be used to manage anxiety, which can contribute to insomnia.\n",
            "* **Sleep Aids:**  Over-the-counter (OTC) sleep aids containing diphenhydramine (Benadryl) or doxylamine (Unisom) can be used for short-term relief.\n",
            "\n",
            "**Important Notes:**\n",
            "\n",
            "* **Prescription vs. Over-the-Counter:**  Many medications are available by prescription only, while others are available over-the-counter.\n",
            "* **Individualized Treatment:** The best treatment for insomnia depends on the individual's specific needs and medical history.\n",
            "* **Potential Side Effects:** All medications can have side effects, and it's important to discuss potential risks with a healthcare professional.\n",
            "* **Long-Term Use:** Long-term use of some medications, especially benzodiazepines, can lead to dependence and withdrawal symptoms.\n",
            "* **Lifestyle Changes:**  Lifestyle changes, such as regular sleep schedules, stress management, and exercise, are crucial for improving sleep quality\n"
          ]
        }
      ],
      "source": [
        "import torch\n",
        "from transformers import AutoTokenizer, AutoModelForCausalLM, BitsAndBytesConfig\n",
        "\n",
        "# Model name and Hugging Face token\n",
        "model_name = \"google/gemma-2-2b-it\"\n",
        "hf_token = \"your_hf_token\"\n",
        "\n",
        "# 8-bit quantization configuration\n",
        "bnb_config = BitsAndBytesConfig(load_in_8bit=True)\n",
        "\n",
        "# Load tokenizer\n",
        "tokenizer = AutoTokenizer.from_pretrained(model_name, token=hf_token)\n",
        "\n",
        "# Load model with 8-bit quantization\n",
        "model = AutoModelForCausalLM.from_pretrained(\n",
        "    model_name,\n",
        "    quantization_config=bnb_config,\n",
        "    device_map=\"auto\",\n",
        "    token=hf_token\n",
        ")"
      ]
    },
    {
      "cell_type": "markdown",
      "source": [
        "##MEDICATIONS NAMES\n"
      ],
      "metadata": {
        "id": "NQBo3VX0IEYj"
      }
    },
    {
      "cell_type": "code",
      "source": [
        "# Prepare input\n",
        "prompt = \"List the primary and secondary medications of insomnia detection\"\n",
        "inputs = tokenizer(prompt, return_tensors=\"pt\").to(model.device)\n",
        "\n",
        "# Generate output\n",
        "with torch.no_grad():\n",
        "    outputs = model.generate(\n",
        "        **inputs,\n",
        "        max_new_tokens=300,\n",
        "        do_sample=False,\n",
        "    )\n",
        "\n",
        "# Decode and print result\n",
        "response = tokenizer.decode(outputs[0], skip_special_tokens=True)\n",
        "print(response)"
      ],
      "metadata": {
        "id": "4NdNA_CVICzU"
      },
      "execution_count": null,
      "outputs": []
    },
    {
      "cell_type": "markdown",
      "source": [
        "##DEFINITION 1 - DIFFCUILTY SLEEPING"
      ],
      "metadata": {
        "id": "IBGOLnpYKLoe"
      }
    },
    {
      "cell_type": "code",
      "source": [
        "# Prepare input\n",
        "prompt = \"Give some Phrases related to Difficulty Sleeping\"\n",
        "inputs = tokenizer(prompt, return_tensors=\"pt\").to(model.device)\n",
        "\n",
        "# Generate output\n",
        "with torch.no_grad():\n",
        "    outputs = model.generate(\n",
        "        **inputs,\n",
        "        max_new_tokens=300,\n",
        "        do_sample=False,\n",
        "    )\n",
        "\n",
        "# Decode and print result\n",
        "response = tokenizer.decode(outputs[0], skip_special_tokens=True)\n",
        "print(response)"
      ],
      "metadata": {
        "colab": {
          "base_uri": "https://localhost:8080/"
        },
        "id": "7h1OFH1mKLc_",
        "outputId": "30f0962c-3fb9-4393-f81c-d193fb484ac3"
      },
      "execution_count": 10,
      "outputs": [
        {
          "output_type": "stream",
          "name": "stdout",
          "text": [
            "Give some Phrases related to Difficulty Sleeping\n",
            "\n",
            "Difficulty sleeping is a common problem, and there are many phrases that can be used to describe it. Here are some examples:\n",
            "\n",
            "**General Difficulty:**\n",
            "\n",
            "* **Having trouble falling asleep.**\n",
            "* **Struggling to get a good night's rest.**\n",
            "* **Unable to sleep soundly.**\n",
            "* **Waking up in the middle of the night.**\n",
            "* **Feeling restless at night.**\n",
            "* **Experiencing insomnia.**\n",
            "\n",
            "**Specific Causes:**\n",
            "\n",
            "* **Anxiety keeping me awake.**\n",
            "* **Stress is making it hard to sleep.**\n",
            "* **My mind is racing at night.**\n",
            "* **I'm tossing and turning all night.**\n",
            "* **My body is tense and I can't relax.**\n",
            "* **I'm waking up too early.**\n",
            "\n",
            "**Seeking Help:**\n",
            "\n",
            "* **I'm looking for ways to improve my sleep.**\n",
            "* **I need help with my sleep.**\n",
            "* **I'm concerned about my sleep quality.**\n",
            "* **I'm wondering if I have a sleep disorder.**\n",
            "\n",
            "**Other:**\n",
            "\n",
            "* **My sleep is a nightmare.**\n",
            "* **I'm exhausted but can't sleep.**\n",
            "* **I'm counting sheep, but they're not helping.**\n",
            "* **I'm so tired, I could sleep for a week.**\n",
            "\n",
            "\n",
            "These phrases can be used in a variety of situations, such as talking to a doctor, sharing with friends, or writing in a\n"
          ]
        }
      ]
    },
    {
      "cell_type": "markdown",
      "source": [
        "##DEFINITION 2 - DAYTIME IMPAIRMENT\n",
        "\n"
      ],
      "metadata": {
        "id": "tk7_qzM7LwF5"
      }
    },
    {
      "cell_type": "code",
      "source": [
        "# Prepare input\n",
        "prompt = \"Give some Phrases related to Daytime Impairment\"\n",
        "inputs = tokenizer(prompt, return_tensors=\"pt\").to(model.device)\n",
        "\n",
        "# Generate output\n",
        "with torch.no_grad():\n",
        "    outputs = model.generate(\n",
        "        **inputs,\n",
        "        max_new_tokens=300,\n",
        "        do_sample=False,\n",
        "    )\n",
        "\n",
        "# Decode and print result\n",
        "response = tokenizer.decode(outputs[0], skip_special_tokens=True)\n",
        "print(response)"
      ],
      "metadata": {
        "colab": {
          "base_uri": "https://localhost:8080/"
        },
        "id": "RC4kGmNYLvSQ",
        "outputId": "4a2c5031-5b03-42cd-dfb0-5f9ebd9746b3"
      },
      "execution_count": 11,
      "outputs": [
        {
          "output_type": "stream",
          "name": "stdout",
          "text": [
            "Give some Phrases related to Daytime Impairment\n",
            "\n",
            "Daytime impairment refers to a condition where an individual experiences difficulties with their cognitive function, attention, and/or executive functioning during the day. \n",
            "\n",
            "Here are some phrases related to daytime impairment:\n",
            "\n",
            "**General:**\n",
            "\n",
            "* **Cognitive fatigue:** Feeling mentally drained and unable to focus.\n",
            "* **Brain fog:** A feeling of mental haziness and difficulty concentrating.\n",
            "* **Difficulty concentrating:** Struggling to focus on tasks or conversations.\n",
            "* **Mental sluggishness:** Feeling slow and unmotivated.\n",
            "* **Impaired executive functioning:** Difficulty with planning, organizing, and decision-making.\n",
            "* **Daytime sleepiness:** Feeling excessively tired during the day.\n",
            "* **Low energy levels:** Feeling drained and lacking motivation.\n",
            "\n",
            "**Specific:**\n",
            "\n",
            "* **Attention deficit disorder (ADD) or attention-deficit/hyperactivity disorder (ADHD):**  These conditions can cause difficulty focusing, impulsivity, and hyperactivity.\n",
            "* **Depression:** Can lead to fatigue, low energy, and difficulty concentrating.\n",
            "* **Anxiety:** Can cause racing thoughts, difficulty focusing, and feelings of overwhelm.\n",
            "* **Chronic fatigue syndrome:** A condition characterized by persistent and debilitating fatigue.\n",
            "* **Sleep disorders:**  Conditions like insomnia or sleep apnea can disrupt sleep and lead to daytime impairment.\n",
            "* **Medication side effects:** Some medications can cause cognitive impairment as a side effect.\n",
            "\n",
            "**Impact:**\n",
            "\n",
            "* **Reduced productivity:** Difficulty concentrating and completing tasks.\n",
            "* **\n"
          ]
        }
      ]
    },
    {
      "cell_type": "markdown",
      "source": [
        "##BENCHMARK METRICS"
      ],
      "metadata": {
        "id": "U9bN3vcePfER"
      }
    },
    {
      "cell_type": "code",
      "source": [
        "import nltk\n",
        "import re\n",
        "from rouge_score import rouge_scorer\n",
        "from nltk.corpus import stopwords\n",
        "from nltk.translate.bleu_score import sentence_bleu, SmoothingFunction\n",
        "from rank_bm25 import BM25Okapi\n",
        "\n",
        "# Download necessary NLTK resources\n",
        "nltk.download('punkt_tab')\n",
        "nltk.download('stopwords')\n",
        "\n",
        "# Load English stop words\n",
        "stop_words = set(stopwords.words(\"english\"))\n",
        "\n",
        "def clean_text(text):\n",
        "    \"\"\" Remove stop words, special characters, and extra spaces from text \"\"\"\n",
        "    # Tokenize text\n",
        "    tokens = nltk.word_tokenize(text.lower())\n",
        "\n",
        "    # Remove special characters (non-alphanumeric tokens)\n",
        "    tokens = [re.sub(r\"[^a-z0-9]\", \"\", token) for token in tokens]\n",
        "\n",
        "    # Remove stop words and empty tokens\n",
        "    tokens = [token for token in tokens if token and token not in stop_words]\n",
        "\n",
        "    return tokens\n",
        "\n",
        "# Compute BLEU score\n",
        "def compute_bleu(reference, generated):\n",
        "    reference_tokens = clean_text(reference)\n",
        "    generated_tokens = clean_text(generated)\n",
        "\n",
        "    smoothing = SmoothingFunction().method4\n",
        "    bleu_score = sentence_bleu([reference_tokens], generated_tokens, smoothing_function=smoothing)\n",
        "    return bleu_score\n",
        "\n",
        "# Compute ROUGE scores (ROUGE-1, ROUGE-2, ROUGE-L)\n",
        "def compute_rouge(reference, generated):\n",
        "    scorer = rouge_scorer.RougeScorer([\"rouge1\", \"rouge2\", \"rougeL\"], use_stemmer=True)\n",
        "    scores = scorer.score(\" \".join(reference), \" \".join(generated))  # Convert tokens back to string\n",
        "    return scores\n",
        "\n",
        "# Compute BM25 Score for retrieval relevance\n",
        "def compute_bm25(reference, generated):\n",
        "    reference_tokens = clean_text(reference)  # Clean and tokenize reference\n",
        "    generated_tokens = clean_text(generated)  # Clean and tokenize generated text\n",
        "\n",
        "    bm25 = BM25Okapi([reference_tokens])  # Train BM25 on reference text\n",
        "    scores = bm25.get_scores(generated_tokens)  # Pass a list of words (not a list of lists)\n",
        "\n",
        "    return float(scores[0])  # Convert to float for printing\n",
        "\n",
        "\n",
        "# Compute CHE Score (Clinical Hallucination Error)\n",
        "def compute_che_score(reference, generated):\n",
        "    reference_set = set(clean_text(reference))\n",
        "    generated_set = set(clean_text(generated))\n",
        "\n",
        "    hallucinated_words = generated_set - reference_set  # Words in generated text that are not in reference\n",
        "    che_score = len(hallucinated_words) / len(generated_set) if len(generated_set) > 0 else 0  # Normalize by total words\n",
        "    return che_score\n",
        "\n",
        "# Example original text and generated texts from the models\n",
        "original_text = \"\"\"\n",
        "The patient is considered to have difficulty sleeping if they report any of the following:\n",
        "- Trouble initiating sleep.\n",
        "- Trouble maintaining sleep.\n",
        "- Waking up earlier than desired.\n",
        "- An explicit mention of insomnia.\n",
        "\"\"\"\n",
        "generated_texts = {\n",
        "    \"Phi-4-mini\": \"\"\"List all the primary and secondary medications used for treating insomnia without explanations—just the names. (A) Zolpidem (B) Melatonin (C) Eszopiclone (D) Diphenhydramine (E) Ramelteon (F) Trazodone (G) Lorazepam (H) Valerian Root (I) Caffeine (J) Modafinil (K) Hydroxyzine (L) Phenazopyridine (M) Gabapentin (N) Melatonin (O) Clonazepam (P) Lorazepam (Q) Diphenhydramine (R) Eszopiclone (S) Ramelteon (T) Trazodone (U) Zolpidem (V) Modafinil (W) Hydroxyzine (X) Lorazepam (Y) Diphenhydramine (Z) Eszopiclone (AA) Ramelteon (BB) Trazodone (CC) Zolpidem (DD) Modafinil (EE\"\"\",\n",
        "    \"Gemma-2B\": \"\"\"List all the primary and secondary medications used for treating insomnia without explanations—just the names.\n",
        "\n",
        "**Primary Medications:**\n",
        "\n",
        "* Zolpidem (Ambien)\n",
        "* Eszopiclone (Lunesta)\n",
        "* Zaleplon (Sonata)\n",
        "* Temazepam (Restoril)\n",
        "* Lorazepam (Ativan)\n",
        "* Oxazepam (Serax)\n",
        "* Flurazepam (Dalmane)\n",
        "* Triazolam (Halcion)\n",
        "* Buspirone (Buspar)\n",
        "\n",
        "**Secondary Medications:**\n",
        "\n",
        "* Melatonin\n",
        "* Doxylamine succinate (Unisom)\n",
        "* Diphenhydramine (Benadryl)\n",
        "* Valerian root\n",
        "* Magnesium citrate\n",
        "* Calcium-magnesium ratio\n",
        "*  Cognitive behavioral therapy (CBT)\n",
        "*  Sleep restriction therapy (SRT)\n",
        "*  Stimulus control therapy (SCT)\n",
        "*  Relaxation techniques\n",
        "*  Exercise\n",
        "*  Avoidance of caffeine and alcohol\n",
        "*  Light therapy\n",
        "*  Weighted blankets\n",
        "\n",
        "\n",
        "Please note: This is not an exhaustive\"\"\",\n",
        "    \"Gemma-3-4b-it\": \"\"\"List all the primary and secondary medications used for treating insomnia without explanations—just the names.\n",
        "\n",
        "**Primary Medications:**\n",
        "\n",
        "* Zolpidem (Ambien)\n",
        "* Eszopiclone (Lunesta)\n",
        "* Zaleplon (Sonata)\n",
        "* Temazepam (Restoril)\n",
        "* Lorazepam (Ativan)\n",
        "* Oxazepam (Serax)\n",
        "* Flurazepam (Dalmane)\n",
        "* Triazolam (Halcion)\n",
        "* Buspirone (Buspar)\n",
        "\n",
        "**Secondary Medications:**\n",
        "\n",
        "* Melatonin\n",
        "* Doxylamine succinate (Unisom)\n",
        "* Diphenhydramine (Benadryl)\n",
        "* Valerian root\n",
        "* Magnesium citrate\n",
        "* Calcium-magnesium ratio\n",
        "*  Cognitive behavioral therapy (CBT)\n",
        "*  Sleep restriction therapy (SRT)\n",
        "*  Stimulus control therapy (SCT)\n",
        "*  Relaxation techniques\n",
        "*  Exercise\n",
        "*  Avoidance of caffeine and alcohol\n",
        "*  Light therapy\n",
        "*  Weighted blankets\"\"\",\n",
        "    \"Phi-3-Mini\": \"\"\"List all the primary and secondary medications used for treating insomnia without explanations—just the names.\n",
        "\n",
        "Document:\n",
        "\n",
        "Insomnia Treatment Options\n",
        "\n",
        "Insomnia is a common sleep disorder that can significantly impact your quality of life. It's characterized by difficulty falling asleep, staying asleep, or waking up too early and not being able to fall back asleep. Treatment for insomnia often involves a combination of lifestyle changes, cognitive-behavioral therapy, and medication.\n",
        "\n",
        "Primary Medications:\n",
        "\n",
        "- Zolpidem (Ambien)\n",
        "- Eszopiclone (Lunesta)\n",
        "- Ramelteon (Rozerem)\n",
        "- Suvorexant (Belsomra)\n",
        "- Doxepin (Silenor)\n",
        "\n",
        "Secondary Medications:\n",
        "\n",
        "- Trazodone (Desyrel)\n",
        "- Melatonin Receptor Agonists (e.g., Agomelatine\"\"\"\n",
        "}\n",
        "\n",
        "# Iterate over generated texts and compute metrics\n",
        "for model_name, generated_text in generated_texts.items():\n",
        "    # Compute BLEU score\n",
        "    bleu = compute_bleu(original_text, generated_text)\n",
        "\n",
        "    # Compute ROUGE scores\n",
        "    rouge_scores = compute_rouge(original_text, generated_text)\n",
        "\n",
        "    # Compute BM25 Score\n",
        "    bm25 = compute_bm25(original_text, generated_text)\n",
        "\n",
        "    # Compute CHE Score\n",
        "    che_score = compute_che_score(original_text, generated_text)\n",
        "\n",
        "    print(f\"Metrics for {model_name}:\")\n",
        "    print(f\"BLEU Score: {bleu:.4f}\")\n",
        "    print(f\"ROUGE-1: {rouge_scores['rouge1'].fmeasure:.4f}\")\n",
        "    print(f\"ROUGE-2: {rouge_scores['rouge2'].fmeasure:.4f}\")\n",
        "    print(f\"ROUGE-L: {rouge_scores['rougeL'].fmeasure:.4f}\")\n",
        "    print(f\"BM25 Score (Retrieval Relevance): {bm25:.4f}\")\n",
        "    print(f\"CHE Score (Hallucination Rate): {che_score:.4f}\")\n",
        "    print(\"=\"*40)"
      ],
      "metadata": {
        "colab": {
          "base_uri": "https://localhost:8080/"
        },
        "id": "1qK2RiKB8CkL",
        "outputId": "b8757d9c-3458-47c9-9d3b-811bda6b66f8"
      },
      "execution_count": 9,
      "outputs": [
        {
          "output_type": "stream",
          "name": "stderr",
          "text": [
            "[nltk_data] Downloading package punkt_tab to /root/nltk_data...\n",
            "[nltk_data]   Unzipping tokenizers/punkt_tab.zip.\n",
            "[nltk_data] Downloading package stopwords to /root/nltk_data...\n",
            "[nltk_data]   Unzipping corpora/stopwords.zip.\n"
          ]
        },
        {
          "output_type": "stream",
          "name": "stdout",
          "text": [
            "Metrics for Phi-4-mini:\n",
            "BLEU Score: 0.0049\n",
            "ROUGE-1: 0.5625\n",
            "ROUGE-2: 0.3531\n",
            "ROUGE-L: 0.3553\n",
            "BM25 Score (Retrieval Relevance): -0.2747\n",
            "CHE Score (Hallucination Rate): 0.9792\n",
            "========================================\n",
            "Metrics for Gemma-2B:\n",
            "BLEU Score: 0.0055\n",
            "ROUGE-1: 0.4611\n",
            "ROUGE-2: 0.3333\n",
            "ROUGE-L: 0.3083\n",
            "BM25 Score (Retrieval Relevance): -0.6670\n",
            "CHE Score (Hallucination Rate): 0.9677\n",
            "========================================\n",
            "Metrics for Gemma-3-4b-it:\n",
            "BLEU Score: 0.0057\n",
            "ROUGE-1: 0.4811\n",
            "ROUGE-2: 0.3450\n",
            "ROUGE-L: 0.3161\n",
            "BM25 Score (Retrieval Relevance): -0.6670\n",
            "CHE Score (Hallucination Rate): 0.9661\n",
            "========================================\n",
            "Metrics for Phi-3-Mini:\n",
            "BLEU Score: 0.0069\n",
            "ROUGE-1: 0.4619\n",
            "ROUGE-2: 0.4043\n",
            "ROUGE-L: 0.3391\n",
            "BM25 Score (Retrieval Relevance): -2.0403\n",
            "CHE Score (Hallucination Rate): 0.9273\n",
            "========================================\n"
          ]
        }
      ]
    }
  ]
}
