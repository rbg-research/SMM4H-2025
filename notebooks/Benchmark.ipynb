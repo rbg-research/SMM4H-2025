{
 "cells": [
  {
   "cell_type": "code",
   "execution_count": null,
   "metadata": {},
   "outputs": [
    {
     "name": "stdout",
     "output_type": "stream",
     "text": [
      "\u001b[2K   \u001b[90m━━━━━━━━━━━━━━━━━━━━━━━━━━━━━━━━━━━━━━━━\u001b[0m \u001b[32m76.1/76.1 MB\u001b[0m \u001b[31m8.1 MB/s\u001b[0m eta \u001b[36m0:00:00\u001b[0m\n",
      "\u001b[2K   \u001b[90m━━━━━━━━━━━━━━━━━━━━━━━━━━━━━━━━━━━━━━━━\u001b[0m \u001b[32m363.4/363.4 MB\u001b[0m \u001b[31m1.4 MB/s\u001b[0m eta \u001b[36m0:00:00\u001b[0m\n",
      "\u001b[2K   \u001b[90m━━━━━━━━━━━━━━━━━━━━━━━━━━━━━━━━━━━━━━━━\u001b[0m \u001b[32m13.8/13.8 MB\u001b[0m \u001b[31m122.8 MB/s\u001b[0m eta \u001b[36m0:00:00\u001b[0m\n",
      "\u001b[2K   \u001b[90m━━━━━━━━━━━━━━━━━━━━━━━━━━━━━━━━━━━━━━━━\u001b[0m \u001b[32m24.6/24.6 MB\u001b[0m \u001b[31m91.1 MB/s\u001b[0m eta \u001b[36m0:00:00\u001b[0m\n",
      "\u001b[2K   \u001b[90m━━━━━━━━━━━━━━━━━━━━━━━━━━━━━━━━━━━━━━━━\u001b[0m \u001b[32m883.7/883.7 kB\u001b[0m \u001b[31m61.3 MB/s\u001b[0m eta \u001b[36m0:00:00\u001b[0m\n",
      "\u001b[2K   \u001b[90m━━━━━━━━━━━━━━━━━━━━━━━━━━━━━━━━━━━━━━━━\u001b[0m \u001b[32m664.8/664.8 MB\u001b[0m \u001b[31m1.9 MB/s\u001b[0m eta \u001b[36m0:00:00\u001b[0m\n",
      "\u001b[2K   \u001b[90m━━━━━━━━━━━━━━━━━━━━━━━━━━━━━━━━━━━━━━━━\u001b[0m \u001b[32m211.5/211.5 MB\u001b[0m \u001b[31m5.3 MB/s\u001b[0m eta \u001b[36m0:00:00\u001b[0m\n",
      "\u001b[2K   \u001b[90m━━━━━━━━━━━━━━━━━━━━━━━━━━━━━━━━━━━━━━━━\u001b[0m \u001b[32m56.3/56.3 MB\u001b[0m \u001b[31m15.4 MB/s\u001b[0m eta \u001b[36m0:00:00\u001b[0m\n",
      "\u001b[2K   \u001b[90m━━━━━━━━━━━━━━━━━━━━━━━━━━━━━━━━━━━━━━━━\u001b[0m \u001b[32m127.9/127.9 MB\u001b[0m \u001b[31m7.2 MB/s\u001b[0m eta \u001b[36m0:00:00\u001b[0m\n",
      "\u001b[2K   \u001b[90m━━━━━━━━━━━━━━━━━━━━━━━━━━━━━━━━━━━━━━━━\u001b[0m \u001b[32m207.5/207.5 MB\u001b[0m \u001b[31m5.7 MB/s\u001b[0m eta \u001b[36m0:00:00\u001b[0m\n",
      "\u001b[2K   \u001b[90m━━━━━━━━━━━━━━━━━━━━━━━━━━━━━━━━━━━━━━━━\u001b[0m \u001b[32m21.1/21.1 MB\u001b[0m \u001b[31m43.0 MB/s\u001b[0m eta \u001b[36m0:00:00\u001b[0m\n",
      "\u001b[?25h"
     ]
    }
   ],
   "source": [
    "!pip install -q -U bitsandbytes"
   ]
  },
  {
   "cell_type": "code",
   "execution_count": null,
   "metadata": {},
   "outputs": [],
   "source": [
    "!pip install -q nltk rouge-score rank_bm25"
   ]
  },
  {
   "cell_type": "code",
   "execution_count": null,
   "metadata": {},
   "outputs": [
    {
     "name": "stdout",
     "output_type": "stream",
     "text": [
      "          Model  Parameters (Billion)  BoolQ  ARC-e  ARC-c  MMLU  TruthfulQA  \\\n",
      "0    Phi-3-Mini                  3.80   78.1    NaN   86.3  70.9       64.70   \n",
      "1         Phi-2                  2.70   83.3   80.0   55.0  56.7         NaN   \n",
      "2  Llama 3.2-3B                  3.21    NaN    NaN   69.1  58.0         NaN   \n",
      "3      Gemma-2B                  2.61   69.4   73.2   42.1  42.3       31.81   \n",
      "4    BTLM-3B-8K                  2.70   70.0   66.9   37.6  28.1       36.00   \n",
      "5   StableLM-3B                  2.80    NaN   47.0   47.0  46.3       46.50   \n",
      "\n",
      "   OpenBookQA  Accuracy  \n",
      "0        82.2     76.44  \n",
      "1         NaN     68.75  \n",
      "2         NaN     63.55  \n",
      "3        47.8     51.10  \n",
      "4        40.4     46.48  \n",
      "5         NaN     46.70  \n"
     ]
    }
   ],
   "source": [
    "import pandas as pd\n",
    "\n",
    "data = {\n",
    "    \"Model\": [\"Phi-3-Mini\", \"Phi-2\", \"Llama 3.2-3B\", \"Gemma-2B\", \"BTLM-3B-8K\", \"StableLM-3B\"],\n",
    "    \"Parameters (Billion)\": [3.8, 2.7, 3.21, 2.61, 2.7, 2.8],\n",
    "    \"BoolQ\": [78.1, 83.3, None, 69.4, 70.0, None],\n",
    "    \"ARC-e\": [None, 80.0, None, 73.2, 66.9, 47.0],\n",
    "    \"ARC-c\": [86.3, 55.0, 69.1, 42.1, 37.6, 47.0],\n",
    "    \"MMLU\": [70.9, 56.7, 58.0, 42.3, 28.1, 46.3],\n",
    "    \"TruthfulQA\": [64.7, None, None, 31.81, 36.0, 46.5],\n",
    "    \"OpenBookQA\": [82.2, None, None, 47.8, 40.4, None],\n",
    "    \"Accuracy\": [76.44, 68.75, 63.55, 51.1, 46.48, 46.7]\n",
    "}\n",
    "\n",
    "df = pd.DataFrame(data)\n",
    "print(df)\n"
   ]
  },
  {
   "cell_type": "markdown",
   "metadata": {
    "id": "y3jaeG_Jpi_U"
   },
   "source": [
    "Based on the available QA and reasoning benchmark scores, including the BoolQ binary classification task these models in the 3-billion parameter range were ranked. From this ranking, the top four models were selected for further domain-specific benchmarking.\n"
   ]
  },
  {
   "cell_type": "markdown",
   "metadata": {
    "id": "eqAmJvMaxr_D"
   },
   "source": [
    "#DOMAIN SPECIFIC BENCHMARKING"
   ]
  },
  {
   "cell_type": "markdown",
   "metadata": {
    "id": "apdCMAHaLEzP"
   },
   "source": [
    "###LOAD THE MODELS\n",
    "\n"
   ]
  },
  {
   "cell_type": "code",
   "execution_count": null,
   "metadata": {},
   "outputs": [
    {
     "data": {
      "application/vnd.jupyter.widget-view+json": {
       "model_id": "e216b776ec804cc09f8f770431205d23",
       "version_major": 2,
       "version_minor": 0
      },
      "text/plain": [
       "tokenizer_config.json:   0%|          | 0.00/3.44k [00:00<?, ?B/s]"
      ]
     },
     "metadata": {},
     "output_type": "display_data"
    },
    {
     "data": {
      "application/vnd.jupyter.widget-view+json": {
       "model_id": "849982c325c042f2ae5755b61e801b16",
       "version_major": 2,
       "version_minor": 0
      },
      "text/plain": [
       "tokenizer.model:   0%|          | 0.00/500k [00:00<?, ?B/s]"
      ]
     },
     "metadata": {},
     "output_type": "display_data"
    },
    {
     "data": {
      "application/vnd.jupyter.widget-view+json": {
       "model_id": "ef4d6054a5544cd2a8ab36de8217a7e0",
       "version_major": 2,
       "version_minor": 0
      },
      "text/plain": [
       "tokenizer.json:   0%|          | 0.00/1.94M [00:00<?, ?B/s]"
      ]
     },
     "metadata": {},
     "output_type": "display_data"
    },
    {
     "data": {
      "application/vnd.jupyter.widget-view+json": {
       "model_id": "6a7aa4f81cbb4157b91b917cb479f195",
       "version_major": 2,
       "version_minor": 0
      },
      "text/plain": [
       "added_tokens.json:   0%|          | 0.00/306 [00:00<?, ?B/s]"
      ]
     },
     "metadata": {},
     "output_type": "display_data"
    },
    {
     "data": {
      "application/vnd.jupyter.widget-view+json": {
       "model_id": "f76f27f2b94e442f86f09800215668ac",
       "version_major": 2,
       "version_minor": 0
      },
      "text/plain": [
       "special_tokens_map.json:   0%|          | 0.00/599 [00:00<?, ?B/s]"
      ]
     },
     "metadata": {},
     "output_type": "display_data"
    },
    {
     "data": {
      "application/vnd.jupyter.widget-view+json": {
       "model_id": "78365fcf3fac4c4a9d63da879efb36ad",
       "version_major": 2,
       "version_minor": 0
      },
      "text/plain": [
       "config.json:   0%|          | 0.00/967 [00:00<?, ?B/s]"
      ]
     },
     "metadata": {},
     "output_type": "display_data"
    },
    {
     "data": {
      "application/vnd.jupyter.widget-view+json": {
       "model_id": "3dddf1c8391a49df9d46de3f345ff617",
       "version_major": 2,
       "version_minor": 0
      },
      "text/plain": [
       "model.safetensors.index.json:   0%|          | 0.00/16.5k [00:00<?, ?B/s]"
      ]
     },
     "metadata": {},
     "output_type": "display_data"
    },
    {
     "data": {
      "application/vnd.jupyter.widget-view+json": {
       "model_id": "7c7efb411f174e84af2fbe37bc47b0b5",
       "version_major": 2,
       "version_minor": 0
      },
      "text/plain": [
       "Fetching 2 files:   0%|          | 0/2 [00:00<?, ?it/s]"
      ]
     },
     "metadata": {},
     "output_type": "display_data"
    },
    {
     "data": {
      "application/vnd.jupyter.widget-view+json": {
       "model_id": "dcf448e342064b548d3d68e3c234d07a",
       "version_major": 2,
       "version_minor": 0
      },
      "text/plain": [
       "model-00002-of-00002.safetensors:   0%|          | 0.00/2.67G [00:00<?, ?B/s]"
      ]
     },
     "metadata": {},
     "output_type": "display_data"
    },
    {
     "data": {
      "application/vnd.jupyter.widget-view+json": {
       "model_id": "eae413e2d8f84b5abc2c900ced7bc028",
       "version_major": 2,
       "version_minor": 0
      },
      "text/plain": [
       "model-00001-of-00002.safetensors:   0%|          | 0.00/4.97G [00:00<?, ?B/s]"
      ]
     },
     "metadata": {},
     "output_type": "display_data"
    },
    {
     "data": {
      "application/vnd.jupyter.widget-view+json": {
       "model_id": "9f03201427144300b281aa0ab6b7bbab",
       "version_major": 2,
       "version_minor": 0
      },
      "text/plain": [
       "Loading checkpoint shards:   0%|          | 0/2 [00:00<?, ?it/s]"
      ]
     },
     "metadata": {},
     "output_type": "display_data"
    },
    {
     "data": {
      "application/vnd.jupyter.widget-view+json": {
       "model_id": "4d191805761840379b2f9ad35b67f346",
       "version_major": 2,
       "version_minor": 0
      },
      "text/plain": [
       "generation_config.json:   0%|          | 0.00/181 [00:00<?, ?B/s]"
      ]
     },
     "metadata": {},
     "output_type": "display_data"
    }
   ],
   "source": [
    "#Load the models one by one and run the cells below, which contain prompts for domain-specific questions.\n",
    "import torch\n",
    "from transformers import AutoTokenizer, AutoModelForCausalLM, BitsAndBytesConfig\n",
    "\n",
    "# Model name and Hugging Face token\n",
    "model_name = \"microsoft/Phi-3-mini-4k-instruct\"\n",
    "hf_token = \"your_hf_token\"\n",
    "\n",
    "# 8-bit quantization configuration\n",
    "bnb_config = BitsAndBytesConfig(load_in_8bit=True)\n",
    "\n",
    "# Load tokenizer\n",
    "tokenizer = AutoTokenizer.from_pretrained(model_name, token=hf_token)\n",
    "\n",
    "# Load model with 8-bit quantization\n",
    "model = AutoModelForCausalLM.from_pretrained(\n",
    "    model_name,\n",
    "    quantization_config=bnb_config,\n",
    "    device_map=\"auto\",\n",
    "    token=hf_token\n",
    ")"
   ]
  },
  {
   "cell_type": "markdown",
   "metadata": {
    "id": "NQBo3VX0IEYj"
   },
   "source": [
    "##MEDICATIONS NAMES\n"
   ]
  },
  {
   "cell_type": "code",
   "execution_count": null,
   "metadata": {},
   "outputs": [
    {
     "name": "stdout",
     "output_type": "stream",
     "text": [
      "List all the primary and secondary medications used for treating insomnia without explanations—just the names.\n",
      "\n",
      "Document:\n",
      "\n",
      "Insomnia Treatment Options\n",
      "\n",
      "Insomnia is a common sleep disorder that can significantly impact a person's quality of life. It is characterized by difficulty falling asleep, staying asleep, or experiencing restorative sleep. Treatment for insomnia often involves a combination of lifestyle changes, cognitive-behavioral therapy, and medication.\n",
      "\n",
      "Primary Medications:\n",
      "\n",
      "1. Zolpidem (Ambien)\n",
      "2. Eszopiclone (Lunesta)\n",
      "3. Ramelteon (Rozerem)\n",
      "4. Suvorexant (Belsomra)\n",
      "5. Doxepin (Silenor)\n",
      "\n",
      "Secondary Medications:\n",
      "\n",
      "1. Trazodone (Oleptro)\n",
      "2. Melatonin Receptor Agonists (e.g., Tasim\n"
     ]
    }
   ],
   "source": [
    "# Prepare input\n",
    "prompt = \"List all the primary and secondary medications used for treating insomnia without explanations—just the names\"\n",
    "inputs = tokenizer(prompt, return_tensors=\"pt\").to(model.device)\n",
    "\n",
    "# Generate output\n",
    "with torch.no_grad():\n",
    "    outputs = model.generate(\n",
    "        **inputs,\n",
    "        max_new_tokens=200,\n",
    "        do_sample=False,\n",
    "    )\n",
    "\n",
    "# Decode and print result\n",
    "response = tokenizer.decode(outputs[0], skip_special_tokens=True)\n",
    "print(response)"
   ]
  },
  {
   "cell_type": "markdown",
   "metadata": {
    "id": "IBGOLnpYKLoe"
   },
   "source": [
    "##DEFINITION 1 - DIFFCUILTY SLEEPING"
   ]
  },
  {
   "cell_type": "code",
   "execution_count": null,
   "metadata": {},
   "outputs": [
    {
     "name": "stdout",
     "output_type": "stream",
     "text": [
      "List the key phrases or evidence that indicate sleep difficulty in a clinical note.\n",
      "    Only return the list, DO NOT generate a clinical note or extra text.\n",
      "    The patient is considered to have difficulty sleeping if they report any of the following:\n",
      "\n",
      "    - Difficulty falling asleep\n",
      "\n",
      "    - Waking up frequently during the night\n",
      "\n",
      "    - Waking up too early and not being able to fall back asleep\n",
      "\n",
      "    - Feeling unrefreshed upon waking\n",
      "\n",
      "    - Experiencing daytime sleepiness\n",
      "\n",
      "    - Reporting poor sleep quality\n",
      "\n",
      "    - Describing restless sleep\n",
      "\n",
      "    - Mentioning sleep disturbances such as snoring or gasping for air\n",
      "\n",
      "    - Expressing concerns about sleep hygiene\n",
      "\n",
      "    - Noting the use of sleep medications\n",
      "\n",
      "    - Discussing the impact of sleep issues on daily functioning\n",
      "\n",
      "    - Reporting symptoms of insomnia\n",
      "\n",
      "    - Describing the use of alcohol or caffeine before bedtime\n",
      "\n",
      "    - Mentioning stress or anxiety related to sleep\n",
      "\n",
      "    - Discussing the use of electronic devices before\n"
     ]
    }
   ],
   "source": [
    "# Prepare input\n",
    "prompt = f\"\"\"List the key phrases or evidence that indicate sleep difficulty in a clinical note.\n",
    "    Only return the list, DO NOT generate a clinical note or extra text.\n",
    "    The patient is considered to have difficulty sleeping if they report any of the following:\"\"\"\n",
    "inputs = tokenizer(prompt, return_tensors=\"pt\").to(model.device)\n",
    "\n",
    "# Generate output\n",
    "with torch.no_grad():\n",
    "    outputs = model.generate(\n",
    "        **inputs,\n",
    "        max_new_tokens=200,\n",
    "        do_sample=False,\n",
    "    )\n",
    "\n",
    "# Decode and print result\n",
    "response = tokenizer.decode(outputs[0], skip_special_tokens=True)\n",
    "print(response)"
   ]
  },
  {
   "cell_type": "markdown",
   "metadata": {
    "id": "tk7_qzM7LwF5"
   },
   "source": [
    "##DEFINITION 2 - DAYTIME IMPAIRMENT\n",
    "\n"
   ]
  },
  {
   "cell_type": "code",
   "execution_count": null,
   "metadata": {},
   "outputs": [
    {
     "name": "stdout",
     "output_type": "stream",
     "text": [
      "List the key phrases or evidence that indicate daytime impairment in a clinical note.\n",
      "    Only return the list, DO NOT generate a clinical note or extra text.\n",
      "    The patient is considered to have daytime impairment if they report any of the following:\n",
      "\n",
      "    - Difficulty staying awake during the day\n",
      "    - Excessive daytime sleepiness\n",
      "    - Frequent napping or dozing off during the day\n",
      "    - Feeling unrefreshed after waking up\n",
      "    - Difficulty concentrating or remembering things\n",
      "    - Irritability or mood swings\n",
      "    - Decreased performance at work or school\n",
      "    - Increased risk of accidents or injuries\n",
      "    - Changes in appetite or weight\n",
      "    - Feeling depressed or anxious\n",
      "    - Sleep paralysis or hallucinations during sleep onset or waking up\n",
      "    - Sleep disruption or insomnia at night\n",
      "    - Sleeping too much at night\n",
      "    - Nightmares or night terrors\n",
      "    - Sleepwalking or sleep talking\n",
      "    - Restless leg syndrome or periodic limb movements during sleep\n",
      "   \n"
     ]
    }
   ],
   "source": [
    "# Prepare input\n",
    "prompt=f\"\"\"List the key phrases or evidence that indicate daytime impairment in a clinical note.\n",
    "    Only return the list, DO NOT generate a clinical note or extra text.\n",
    "    The patient is considered to have daytime impairment if they report any of the following:\"\"\"\n",
    "inputs = tokenizer(prompt, return_tensors=\"pt\").to(model.device)\n",
    "\n",
    "# Generate output\n",
    "with torch.no_grad():\n",
    "    outputs = model.generate(\n",
    "        **inputs,\n",
    "        max_new_tokens=200,\n",
    "        do_sample=False,\n",
    "    )\n",
    "\n",
    "# Decode and print result\n",
    "response = tokenizer.decode(outputs[0], skip_special_tokens=True)\n",
    "print(response)"
   ]
  },
  {
   "cell_type": "code",
   "execution_count": null,
   "metadata": {},
   "outputs": [
    {
     "name": "stderr",
     "output_type": "stream",
     "text": [
      "[nltk_data] Downloading package punkt_tab to /root/nltk_data...\n",
      "[nltk_data]   Package punkt_tab is already up-to-date!\n",
      "[nltk_data] Downloading package stopwords to /root/nltk_data...\n",
      "[nltk_data]   Package stopwords is already up-to-date!\n"
     ]
    }
   ],
   "source": [
    "import nltk\n",
    "import re\n",
    "import pandas as pd\n",
    "from rouge_score import rouge_scorer\n",
    "from nltk.corpus import stopwords\n",
    "from nltk.translate.bleu_score import sentence_bleu, SmoothingFunction\n",
    "from rank_bm25 import BM25Okapi\n",
    "\n",
    "# Download necessary NLTK resources\n",
    "nltk.download('punkt_tab')\n",
    "nltk.download('stopwords')\n",
    "\n",
    "# Load English stop words\n",
    "stop_words = set(stopwords.words(\"english\"))\n",
    "\n",
    "def clean_text(text):\n",
    "    \"\"\" Remove stop words, special characters, and extra spaces from text \"\"\"\n",
    "    # Tokenize text\n",
    "    tokens = nltk.word_tokenize(text.lower())\n",
    "\n",
    "    # Remove special characters (non-alphanumeric tokens)\n",
    "    tokens = [re.sub(r\"[^a-z0-9]\", \"\", token) for token in tokens]\n",
    "\n",
    "    # Remove stop words and empty tokens\n",
    "    tokens = [token for token in tokens if token and token not in stop_words]\n",
    "\n",
    "    return tokens\n",
    "\n",
    "# Compute BLEU score\n",
    "def compute_bleu(reference, generated):\n",
    "    reference_tokens = clean_text(reference)\n",
    "    generated_tokens = clean_text(generated)\n",
    "\n",
    "    smoothing = SmoothingFunction().method4\n",
    "    bleu_score = sentence_bleu([reference_tokens], generated_tokens, smoothing_function=smoothing)\n",
    "    return bleu_score\n",
    "\n",
    "# Compute ROUGE scores (ROUGE-1, ROUGE-2, ROUGE-L)\n",
    "def compute_rouge(reference, generated):\n",
    "    scorer = rouge_scorer.RougeScorer([\"rouge1\", \"rouge2\", \"rougeL\"], use_stemmer=True)\n",
    "    scores = scorer.score(\" \".join(reference), \" \".join(generated))  # Convert tokens back to string\n",
    "    return scores\n",
    "\n",
    "# Compute BM25 Score for retrieval relevance\n",
    "def compute_bm25(reference, generated):\n",
    "    reference_tokens = clean_text(reference)  # Clean and tokenize reference\n",
    "    generated_tokens = clean_text(generated)  # Clean and tokenize generated text\n",
    "\n",
    "    bm25 = BM25Okapi([reference_tokens])  # Train BM25 on reference text\n",
    "    scores = bm25.get_scores(generated_tokens)  # Pass a list of words (not a list of lists)\n",
    "\n",
    "    return float(scores[0])  # Convert to float for printing\n",
    "\n",
    "\n",
    "# Compute CHE Score (Clinical Hallucination Error)\n",
    "def compute_che_score(reference, generated):\n",
    "    reference_set = set(clean_text(reference))\n",
    "    generated_set = set(clean_text(generated))\n",
    "\n",
    "    hallucinated_words = generated_set - reference_set  # Words in generated text that are not in reference\n",
    "    che_score = len(hallucinated_words) / len(generated_set) if len(generated_set) > 0 else 0  # Normalize by total words\n",
    "    return che_score"
   ]
  },
  {
   "cell_type": "markdown",
   "metadata": {
    "id": "U9bN3vcePfER"
   },
   "source": [
    "##BENCHMARK METRICS - MEDICATIONS NAMES"
   ]
  },
  {
   "cell_type": "code",
   "execution_count": null,
   "metadata": {},
   "outputs": [
    {
     "name": "stdout",
     "output_type": "stream",
     "text": [
      "                   Model    BLEU  ROUGE-1  ROUGE-2  ROUGE-L    BM25     CHE\n",
      "0                  Phi-2  0.0000   0.5816   0.1422   0.3688  0.0000  1.0000\n",
      "1            Gemma-2B-it  0.0139   0.8736   0.6197   0.5273 -4.0806  0.6667\n",
      "2  Llama-3.2-3B-Instruct  0.0100   0.7825   0.5091   0.4864 -4.3552  0.7353\n",
      "3             Phi-3-Mini  0.0100   0.7574   0.5199   0.4211 -4.0413  0.7885\n"
     ]
    }
   ],
   "source": [
    "# Example original text and generated texts from the models\n",
    "original_text = \"\"\"\n",
    " The primary insomnia medications are Estazolam, Eszopiclone, Flurazepam, Lemborexant, Quazepam, Ramelteon, Suvorexant, Temazepam, Triazolam, Zaleplon, Zolpidem.\n",
    "\n",
    "The secondary insomnia medications are Acamprosate, Alprazolam, Clonazepam, Clonidine, Diazepam, Diphenhydramine, Doxepin, Gabapentin, Hydroxyzine, Lorazepam, Melatonin, Mirtazapine, Olanzapine, Quetiapine, Trazodone.\n",
    "\"\"\"\n",
    "generated_texts = {\n",
    "    \"Phi-2\": \"\"\"\n",
    "\n",
    "• Ambien\n",
    "\n",
    "• Ambien CR\n",
    "\n",
    "• Ambien CR Extended-Release\n",
    "\n",
    "• Ambien CR Extended-Release Tablets\n",
    "\n",
    "• Ambien CR Tablets\n",
    "\n",
    "• Ambien CR Tablets, Extended-Release\n",
    "\n",
    "• Ambien CR Tablets, Extended-Release, USP\n",
    "\n",
    "• Ambien CR Tablets, USP\n",
    "\n",
    "• Ambien CR Tablets, USP, Extended-Release\n",
    "\n",
    "• Ambien CR Tablets, USP, Extended-Release, USP\n",
    "\n",
    "• Ambien CR Tablets, USP, Extended-Release, USP, USP\n",
    "\n",
    "• Ambien CR Tablets, USP, Extended-Release, USP, USP, USP\n",
    "\n",
    "• Ambien CR Tablets, USP, Extended-Release, USP, USP, USP, USP\n",
    "\n",
    "• Ambien CR Tablets, USP, Extended-Release, USP, USP, USP, USP, USP\n",
    "\n",
    "• Ambien CR Tablets, USP, Extended-Release, USP, USP, USP, USP, USP, USP\n",
    "\n",
    "• Ambien CR Tablets, USP, Extended-Release, USP, USP, USP, USP, USP, USP, USP\n",
    "\n",
    "• Ambien CR Tablets, USP,\"\"\",\n",
    "    \"Gemma-2B-it\": \"\"\"\n",
    "**Primary Medications:**\n",
    "\n",
    "* Zolpidem\n",
    "* Eszopiclone\n",
    "* Zaleplon\n",
    "* Temazepam\n",
    "* Lorazepam\n",
    "* Flurazepam\n",
    "* Oxazepam\n",
    "* Triazolam\n",
    "* Alprazolam\n",
    "* Buspirone\n",
    "\n",
    "**Secondary Medications:**\n",
    "\n",
    "* Melatonin\n",
    "* Doxylamine\n",
    "* Diphenhydramine\n",
    "* Benadryl\n",
    "* Valerian\n",
    "* Chamomile\n",
    "* Lavender\n",
    "* Magnesium\n",
    "* Calcium\n",
    "* Vitamin B6\n",
    "* Ginkgo biloba\n",
    "* Passionflower\n",
    "* Ashwagandha\n",
    "* Rhodiola\n",
    "* Holy basil\n",
    "* Lemon balm\n",
    "* Passionflower\n",
    "* Kava\n",
    "* St. John's Wort\n",
    "* 5-HTP\n",
    "* L-Theanine\n",
    "\"\"\",\n",
    "    \"Llama-3.2-3B-Instruct\": \"\"\"**Primary Medications:**\n",
    "\n",
    "1. Zolpidem\n",
    "2. Eszopiclone\n",
    "3. Ramelteon\n",
    "4. Suvorexant\n",
    "5. Melatonin\n",
    "6. Zaleplon\n",
    "7. Eszopiclone\n",
    "8. Zolpidem\n",
    "9. Ramelteon\n",
    "10. Suvorexant\n",
    "\n",
    "**Secondary Medications:**\n",
    "\n",
    "1. Benzodiazepines\n",
    "2. Antidepressants\n",
    "3. Antihistamines\n",
    "4. Opioids\n",
    "5. Muscle relaxants\n",
    "6. Anticonvulsants\n",
    "7. Selective serotonin reuptake inhibitors (SSRIs)\n",
    "8. Melatonin receptor agonists\n",
    "9. GABA receptor agonists\n",
    "10. Serotonin receptor agonists\n",
    "\n",
    "\"\"\",\n",
    "    \"Phi-3-Mini\": \"\"\"LInsomnia Treatment Options\n",
    "\n",
    "Insomnia is a common sleep disorder that can significantly impact a person's quality of life. It is characterized by difficulty falling asleep, staying asleep, or experiencing restorative sleep. Treatment for insomnia often involves a combination of lifestyle changes, cognitive-behavioral therapy, and medication.\n",
    "\n",
    "Primary Medications:\n",
    "\n",
    "1. Zolpidem (Ambien)\n",
    "2. Eszopiclone (Lunesta)\n",
    "3. Ramelteon (Rozerem)\n",
    "4. Suvorexant (Belsomra)\n",
    "5. Doxepin (Silenor)\n",
    "\n",
    "Secondary Medications:\n",
    "\n",
    "1. Trazodone (Oleptro)\n",
    "2. Melatonin Receptor Agonists (e.g., Tasim\n",
    "\"\"\"\n",
    "}\n",
    "\n",
    "results=[]\n",
    "\n",
    "# Iterate over generated texts and compute metrics\n",
    "for model_name, generated_text in generated_texts.items():\n",
    "    # Compute BLEU score\n",
    "    bleu = compute_bleu(original_text, generated_text)\n",
    "\n",
    "    # Compute ROUGE scores\n",
    "    rouge_scores = compute_rouge(original_text, generated_text)\n",
    "\n",
    "    # Compute BM25 Score\n",
    "    bm25 = compute_bm25(original_text, generated_text)\n",
    "\n",
    "    # Compute CHE Score\n",
    "    che_score = compute_che_score(original_text, generated_text)\n",
    "\n",
    "    results.append({\n",
    "        \"Model\": model_name,\n",
    "        \"BLEU\": round(bleu, 4),\n",
    "        \"ROUGE-1\": round(rouge_scores['rouge1'].fmeasure, 4),\n",
    "        \"ROUGE-2\": round(rouge_scores['rouge2'].fmeasure, 4),\n",
    "        \"ROUGE-L\": round(rouge_scores['rougeL'].fmeasure, 4),\n",
    "        \"BM25\": round(bm25, 4),\n",
    "        \"CHE\": round(che_score, 4)\n",
    "    })\n",
    "\n",
    "drugs_df=pd.DataFrame(results)\n",
    "print(drugs_df)\n"
   ]
  },
  {
   "cell_type": "markdown",
   "metadata": {
    "id": "F2JmPrds6j8O"
   },
   "source": [
    "##BENCHMARK METRICS - DEFINITION 1\n"
   ]
  },
  {
   "cell_type": "code",
   "execution_count": null,
   "metadata": {},
   "outputs": [
    {
     "name": "stdout",
     "output_type": "stream",
     "text": [
      "                   Model    BLEU  ROUGE-1  ROUGE-2  ROUGE-L     BM25     CHE\n",
      "0                  Phi-2  0.0030   0.2994   0.1739   0.2391 -17.4209  0.9524\n",
      "1            Gemma-2B-it  0.0622   0.3913   0.3230   0.3705  -7.1802  0.6522\n",
      "2  Llama-3.2-3B-Instruct  0.0725   0.4993   0.4396   0.4180  -5.6892  0.8431\n",
      "3             Phi-3-Mini  0.0733   0.4436   0.4139   0.4000  -5.7677  0.8302\n"
     ]
    }
   ],
   "source": [
    "# Example original text and generated texts from the models\n",
    "original_text = \"\"\"\n",
    "The patient is considered to have difficulty sleeping if they report any of the following:\n",
    "- Trouble initiating sleep.\n",
    "- Trouble maintaining sleep.\n",
    "- Waking up earlier than desired.\n",
    "- An explicit mention of insomnia.\n",
    "\"\"\"\n",
    "generated_texts = {\n",
    "    \"Phi-2\": \"\"\"\n",
    "A. Insomnia\n",
    "B. Sleep Apnea\n",
    "C. Narcolepsy\n",
    "D. Sleep Paralysis\n",
    "E. Restless Leg Syndrome\n",
    "F. Sleep Hygiene\n",
    "G. Sleep Disorders\n",
    "H. Sleep Deprivation\n",
    "I. Sleep Medication\n",
    "J. Sleep Disorders Association\n",
    "K. Sleep Disorders Clinic\n",
    "L. Sleep Disorders Center\n",
    "M. Sleep Disorders Institute\n",
    "N. Sleep Disorders Society\n",
    "O. Sleep Disorders Treatment\n",
    "P. Sleep Disorders Test\n",
    "Q. Sleep Disorders Research\n",
    "R. Sleep Disorders Diagnosis\n",
    "S. Sleep Disorders Symptoms\n",
    "T. Sleep Disorders Causes\n",
    "U. Sleep Disorders Prevention\n",
    "V. Sleep Disorders Treatment\n",
    "W. Sleep Disorders Diagnosis\n",
    "X. Sleep Disorders Symptoms\n",
    "Y. Sleep Disorders Causes\n",
    "Z. Sleep Disorders Prevention\n",
    "A. Insomnia\n",
    "B. Sleep Apnea\n",
    "C. Narcolepsy\n",
    "D. Sleep Paralysis\n",
    "E. Restless Leg Syndrome\n",
    "F. Sleep Hygiene\n",
    "G. Sleep Disorders\n",
    "H. Sleep Deprivation\n",
    "I. Sleep Medication\n",
    "J. Sleep Disorders Association\n",
    "K. Sleep Disorders Clinic\n",
    "L. Sleep Disorders Center\n",
    "M. Sleep Disorders Institute\n",
    "N. Sleep Disorders Society\n",
    "O. Sleep Disorders Treatment\n",
    "P. Sleep Disorders Test\n",
    "Q. Sleep Disorders Research\n",
    "R. Sleep Disorders Diagnosis\n",
    "S. Sleep Disorders Symptoms\n",
    "T. Sleep Disorders Causes\n",
    "U. Sleep Disorders Prevention\n",
    "V. Sleep Disorders Treatment\n",
    "W. Sleep Disorders\"\"\",\n",
    "    \"Gemma-2B-it\": \"\"\"The patient is considered to have difficulty sleeping if they report any of the following:\n",
    "    * Difficulty falling asleep\n",
    "    * Difficulty staying asleep\n",
    "    * Waking up during the night\n",
    "    * Waking up early in the morning\n",
    "    * Feeling unrested after sleep\n",
    "    * Excessive daytime sleepiness\n",
    "    * Sleep disturbances that interfere with daily life\n",
    "    * Difficulty falling asleep and staying asleep\n",
    "    * Difficulty falling asleep, staying asleep, and waking up during the night\n",
    "    * Difficulty falling asleep, staying asleep, and waking up early in the morning\n",
    "    * Difficulty falling asleep, staying asleep, waking up during the night, and feeling unrested after sleep\n",
    "    * Sleep disturbances that interfere with daily life and excessive daytime sleepiness\n",
    "    * Difficulty falling asleep, staying asleep, waking up during the night, feeling unrested after sleep, and excessive daytime sleepiness\n",
    "\"\"\",\n",
    "    \"Llama-3.2-3B-Instruct\": \"\"\"List the key phrases or evidence that indicate sleep difficulty in a clinical note.\n",
    "    Only return the list, DO NOT generate a clinical note or extra text.\n",
    "    The patient is considered to have difficulty sleeping if they report any of the following:\n",
    "    1. Difficulty falling asleep\n",
    "    2. Waking up frequently during the night\n",
    "    3. Waking up too early in the morning\n",
    "    4. Difficulty staying asleep\n",
    "    5. Waking up with morning headaches\n",
    "    6. Waking up with morning fatigue\n",
    "    7. Difficulty concentrating during the day\n",
    "    8. Irritability or mood swings\n",
    "    9. Difficulty performing daily activities due to sleep\n",
    "    10. Using sleep aids or other medications to help sleep.\n",
    "    *\"\"\",\n",
    "    \"Phi-3-Mini\": \"\"\"The patient is considered to have difficulty sleeping if they report any of the following:\n",
    "\n",
    "    - Difficulty falling asleep\n",
    "\n",
    "    - Waking up frequently during the night\n",
    "\n",
    "    - Waking up too early and not being able to fall back asleep\n",
    "\n",
    "    - Feeling unrefreshed upon waking\n",
    "\n",
    "    - Experiencing daytime sleepiness\n",
    "\n",
    "    - Reporting poor sleep quality\n",
    "\n",
    "    - Describing restless sleep\n",
    "\n",
    "    - Mentioning sleep disturbances such as snoring or gasping for air\n",
    "\n",
    "    - Expressing concerns about sleep hygiene\n",
    "\n",
    "    - Noting the use of sleep medications\n",
    "\n",
    "    - Discussing the impact of sleep issues on daily functioning\n",
    "\n",
    "    - Reporting symptoms of insomnia\n",
    "\n",
    "    - Describing the use of alcohol or caffeine before bedtime\n",
    "\n",
    "    - Mentioning stress or anxiety related to sleep\n",
    "\n",
    "    - Discussing the use of electronic devices before\"\"\"\n",
    "}\n",
    "\n",
    "results=[]\n",
    "\n",
    "# Iterate over generated texts and compute metrics\n",
    "for model_name, generated_text in generated_texts.items():\n",
    "    # Compute BLEU score\n",
    "    bleu = compute_bleu(original_text, generated_text)\n",
    "\n",
    "    # Compute ROUGE scores\n",
    "    rouge_scores = compute_rouge(original_text, generated_text)\n",
    "\n",
    "    # Compute BM25 Score\n",
    "    bm25 = compute_bm25(original_text, generated_text)\n",
    "\n",
    "    # Compute CHE Score\n",
    "    che_score = compute_che_score(original_text, generated_text)\n",
    "\n",
    "    results.append({\n",
    "        \"Model\": model_name,\n",
    "        \"BLEU\": round(bleu, 4),\n",
    "        \"ROUGE-1\": round(rouge_scores['rouge1'].fmeasure, 4),\n",
    "        \"ROUGE-2\": round(rouge_scores['rouge2'].fmeasure, 4),\n",
    "        \"ROUGE-L\": round(rouge_scores['rougeL'].fmeasure, 4),\n",
    "        \"BM25\": round(bm25, 4),\n",
    "        \"CHE\": round(che_score, 4)\n",
    "    })\n",
    "\n",
    "def1_df=pd.DataFrame(results)\n",
    "print(def1_df)"
   ]
  },
  {
   "cell_type": "markdown",
   "metadata": {
    "id": "nmFvtyhi52aX"
   },
   "source": [
    "##BENCHMARK METRICS - DEFINITION 2\n"
   ]
  },
  {
   "cell_type": "code",
   "execution_count": null,
   "metadata": {},
   "outputs": [
    {
     "name": "stdout",
     "output_type": "stream",
     "text": [
      "          Model    BLEU  ROUGE-1  ROUGE-2  ROUGE-L     BM25     CHE\n",
      "0         Phi-2  0.0370   0.4601   0.2636   0.3744 -12.4379  0.5000\n",
      "1   Gemma-2B-it  0.0620   0.6163   0.4592   0.4169  -2.3149  0.8261\n",
      "2  Llama-3.2-3B  0.0816   0.7884   0.6424   0.4689  -6.6701  0.7231\n",
      "3    Phi-3-mini  0.0860   0.7688   0.5589   0.4949  -5.1792  0.7679\n"
     ]
    }
   ],
   "source": [
    "# Example original text and generated texts from the models\n",
    "original_text = \"\"\"\n",
    "The patient is considered to have daytime impairment if they report any of the following:\n",
    "\n",
    "- Fatigue or malaise.\n",
    "- Impaired attention, concentration, or memory.\n",
    "- Impaired social, family, occupational, or academic performance.\n",
    "- Mood disturbance or irritability.\n",
    "- Daytime sleepiness.\n",
    "- Behavioral problems such as hyperactivity, impulsivity, or aggression.\n",
    "- Decreased motivation, energy, or initiative.\n",
    "- Proneness to errors or accidents.\n",
    "- Concerns or dissatisfaction with sleep.\n",
    "\n",
    "\"\"\"\n",
    "generated_texts = {\n",
    "    \"Phi-2\": \"\"\"The patient is considered to have daytime impairment if they report any of the following\n",
    "Daytime Impairment\n",
    "Daytime impairment is a condition in which a person is unable to function normally during the day.\n",
    "Daytime impairment is a condition in which a person is unable to function normally during the day.\n",
    "Daytime impairment is a condition in which a person is unable to function normally during the day.\n",
    "Daytime impairment is a condition in which a person is unable to function normally during the day.\n",
    "Daytime impairment is a condition in which a person is unable to function normally during the day.\n",
    "Daytime impairment is a condition in which a person is unable to function normally during the day.\n",
    "Daytime impairment is a condition in which a person is unable to function normally during the day.\n",
    "Daytime impairment is a condition in which a person is unable to function normally during the day.\n",
    "Daytime impairment is a condition in which a person is unable to function normally during the day.\n",
    "Daytime impairment is a condition in which a person is unable to function normally during the day.\n",
    "Daytime impairment is a condition in which a person is unable to function normally during the day.\n",
    "Daytime impairment is a condition in which a person is unable to function normally during the day.\n",
    "Daytime impairment is a condition in which a person is unable to function normally during the day.\n",
    "Daytime impairment is a condition in which a person is unable to function normally during the day.\n",
    "Daytime impairment is a condition in which a person is\n",
    "\"\"\",\n",
    "    \"Gemma-2B-it\": \"\"\"The patient is considered to have daytime impairment if they report any of the following:\n",
    "    * Difficulty concentrating\n",
    "    * Difficulty remembering\n",
    "    * Difficulty with daily activities\n",
    "    * Difficulty with social interactions\n",
    "    * Feeling tired or fatigued\n",
    "    * Feeling irritable\n",
    "    * Feeling depressed\n",
    "    * Difficulty sleeping\n",
    "    * Difficulty with motor skills\n",
    "    * Difficulty with coordination\n",
    "    * Difficulty with balance\n",
    "    * Difficulty with judgment\n",
    "    * Difficulty with decision-making\n",
    "    * Difficulty with problem-solving\n",
    "    * Difficulty with abstract thinking\n",
    "    * Difficulty with emotional regulation\n",
    "    * Difficulty with self-care\n",
    "    * Difficulty with work or school\n",
    "    * Difficulty with relationships\n",
    "    * Difficulty with finances\n",
    "    * Difficulty with hobbies\n",
    "    * Difficulty with leisure activities\n",
    "    * Difficulty with self-esteem\n",
    "    * Difficulty with motivation\n",
    "    * Feeling overwhelmed\n",
    "    * Feeling anxious\n",
    "    * Feeling hopeless\n",
    "    * Difficulty with communication\n",
    "    * Difficulty with reading\n",
    "    * Difficulty with writing\n",
    "    * Difficulty with understanding\n",
    "    * Difficulty with\"\"\",\n",
    "    \"Llama-3.2-3B\": \"\"\"List the key phrases or evidence that indicate daytime impairment in a clinical note.\n",
    "    Only return the list, DO NOT generate a clinical note or extra text.\n",
    "    The patient is considered to have daytime impairment if they report any of the following:\n",
    "    1. Difficulty staying awake during the day\n",
    "    2. Excessive daytime sleepiness\n",
    "    3. Fatigue\n",
    "    4. Difficulty concentrating or paying attention\n",
    "    5. Memory problems\n",
    "    6. Mood changes (e.g. irritability, anxiety, depression)\n",
    "    7. Decreased productivity or performance\n",
    "    8. Increased risk of accidents or errors\n",
    "    9. Sleepiness during activities that require sustained attention (e.g. driving, operating heavy machinery)\n",
    "    10. Needing to take frequent breaks to rest or sleep during the day.\"\"\",\n",
    "    \"Phi-3-mini\": \"\"\"The patient is considered to have daytime impairment if they report any of the following:\n",
    "\n",
    "    - Difficulty staying awake during the day\n",
    "    - Excessive daytime sleepiness\n",
    "    - Frequent napping or dozing off during the day\n",
    "    - Feeling unrefreshed after waking up\n",
    "    - Difficulty concentrating or remembering things\n",
    "    - Irritability or mood swings\n",
    "    - Decreased performance at work or school\n",
    "    - Increased risk of accidents or injuries\n",
    "    - Changes in appetite or weight\n",
    "    - Feeling depressed or anxious\n",
    "    - Sleep paralysis or hallucinations during sleep onset or waking up\n",
    "    - Sleep disruption or insomnia at night\n",
    "    - Sleeping too much at night\n",
    "    - Nightmares or night terrors\n",
    "    - Sleepwalking or sleep talking\n",
    "    - Restless leg syndrome or periodic limb movements during sleep\n",
    "   \"\"\"\n",
    "}\n",
    "\n",
    "results=[]\n",
    "\n",
    "# Iterate over generated texts and compute metrics\n",
    "for model_name, generated_text in generated_texts.items():\n",
    "    # Compute BLEU score\n",
    "    bleu = compute_bleu(original_text, generated_text)\n",
    "\n",
    "    # Compute ROUGE scores\n",
    "    rouge_scores = compute_rouge(original_text, generated_text)\n",
    "\n",
    "    # Compute BM25 Score\n",
    "    bm25 = compute_bm25(original_text, generated_text)\n",
    "\n",
    "    # Compute CHE Score\n",
    "    che_score = compute_che_score(original_text, generated_text)\n",
    "\n",
    "    results.append({\n",
    "        \"Model\": model_name,\n",
    "        \"BLEU\": round(bleu, 4),\n",
    "        \"ROUGE-1\": round(rouge_scores['rouge1'].fmeasure, 4),\n",
    "        \"ROUGE-2\": round(rouge_scores['rouge2'].fmeasure, 4),\n",
    "        \"ROUGE-L\": round(rouge_scores['rougeL'].fmeasure, 4),\n",
    "        \"BM25\": round(bm25, 4),\n",
    "        \"CHE\": round(che_score, 4)\n",
    "    })\n",
    "\n",
    "def2_df=pd.DataFrame(results)\n",
    "print(def2_df)"
   ]
  },
  {
   "cell_type": "markdown",
   "metadata": {
    "id": "JG1lG3bwp5PU"
   },
   "source": [
    "##RANK THE MODELS\n"
   ]
  },
  {
   "cell_type": "code",
   "execution_count": null,
   "metadata": {},
   "outputs": [
    {
     "name": "stdout",
     "output_type": "stream",
     "text": [
      "\n",
      "Ranked Models by Average Score\n",
      "                   Model                  Model         Model  Average_Score  \\\n",
      "0            Gemma-2B-it            Gemma-2B-it   Gemma-2B-it       -0.58932   \n",
      "1             Phi-3-Mini             Phi-3-Mini    Phi-3-mini       -0.66936   \n",
      "2  Llama-3.2-3B-Instruct  Llama-3.2-3B-Instruct  Llama-3.2-3B       -0.76772   \n",
      "3                  Phi-2                  Phi-2         Phi-2       -1.79438   \n",
      "\n",
      "     BLEU    BLEU    BLEU  ROUGE-1  ROUGE-1  ROUGE-1  ROUGE-2  ROUGE-2  \\\n",
      "0  0.0139  0.0622  0.0620   0.8736   0.3913   0.6163   0.6197   0.3230   \n",
      "1  0.0100  0.0733  0.0860   0.7574   0.4436   0.7688   0.5199   0.4139   \n",
      "2  0.0100  0.0725  0.0816   0.7825   0.4993   0.7884   0.5091   0.4396   \n",
      "3  0.0000  0.0030  0.0370   0.5816   0.2994   0.4601   0.1422   0.1739   \n",
      "\n",
      "   ROUGE-2  ROUGE-L  ROUGE-L  ROUGE-L    BM25     BM25     BM25  \n",
      "0   0.4592   0.5273   0.3705   0.4169 -4.0806  -7.1802  -2.3149  \n",
      "1   0.5589   0.4211   0.4000   0.4949 -4.0413  -5.7677  -5.1792  \n",
      "2   0.6424   0.4864   0.4180   0.4689 -4.3552  -5.6892  -6.6701  \n",
      "3   0.2636   0.3688   0.2391   0.3744  0.0000 -17.4209 -12.4379  \n"
     ]
    }
   ],
   "source": [
    "from xml.etree.ElementTree import Comment\n",
    "\n",
    "# Ranking: Positive metrics (higher is better)\n",
    "positive_metrics = [\"BLEU\", \"ROUGE-1\", \"ROUGE-2\", \"ROUGE-L\",\"BM25\"]\n",
    "combined_df['Average_Score'] = combined_df[positive_metrics].mean(axis=1)\n",
    "# Rank models based on the average score (highest to lowest)\n",
    "ranked_by_avg = combined_df.sort_values(by=\"Average_Score\", ascending=False)\n",
    "# Print the ranked table with average scores\n",
    "print(\"\\nRanked Models by Average Score\")\n",
    "print(ranked_by_avg[[\"Model\", \"Average_Score\"] + positive_metrics].reset_index(drop=True))"
   ]
  },
  {
   "cell_type": "markdown",
   "metadata": {
    "id": "oyJUzYSEdQjf"
   },
   "source": [
    "The Gemma-2B model demonstrates superior performance in the medication name extraction task, clearly outperforming all other models. While larger 3B models show stronger results in Definition 1 and Definition 2 tasks in terms of BLEU and ROUGE scores, the Gemma-2B model consistently yields a lower BM25 score, indicating that it generates less irrelevant or hallucinated content.\n",
    "\n",
    "This balance of precision and compactness makes Gemma-2B not only competitive but also highly efficient for real-world deployment in resource-constrained environments. Given its smaller size, high relevance, and effectiveness, Gemma-2B stands out as the most reliable and efficient model in its category for clinical text understanding tasks related to insomnia detection.\n",
    "\n"
   ]
  },
  {
   "cell_type": "code",
   "execution_count": null,
   "metadata": {},
   "outputs": [
    {
     "name": "stdout",
     "output_type": "stream",
     "text": [
      "\n",
      " Ranked Models by CHE\n",
      "                   Model                  Model         Model  Average_Score  \\\n",
      "0            Gemma-2B-it            Gemma-2B-it   Gemma-2B-it       0.715000   \n",
      "1  Llama-3.2-3B-Instruct  Llama-3.2-3B-Instruct  Llama-3.2-3B       0.767167   \n",
      "2             Phi-3-Mini             Phi-3-Mini    Phi-3-mini       0.795533   \n",
      "3                  Phi-2                  Phi-2         Phi-2       0.817467   \n",
      "\n",
      "      CHE     CHE     CHE  \n",
      "0  0.6667  0.6522  0.8261  \n",
      "1  0.7353  0.8431  0.7231  \n",
      "2  0.7885  0.8302  0.7679  \n",
      "3  1.0000  0.9524  0.5000  \n"
     ]
    }
   ],
   "source": [
    "# Ranking Models with CHE scores\n",
    "negative_metrics = [\"CHE\"]\n",
    "combined_df['Average_Score'] = combined_df[negative_metrics].mean(axis=1)\n",
    "ranked_by_avg = combined_df.sort_values(by=\"Average_Score\", ascending=True)\n",
    "print(\"\\n Ranked Models by CHE\")\n",
    "print(ranked_by_avg[[\"Model\", \"Average_Score\"] + negative_metrics].reset_index(drop=True))"
   ]
  },
  {
   "cell_type": "markdown",
   "metadata": {
    "id": "TR_T1lvjkkvs"
   },
   "source": [
    "In the CHE score comparison table, Gemma-2B achieves the lowest hallucination rate, confirming its ability to generate more accurate and relevant content which is a critical factor in clinical applications where lower CHE is better."
   ]
  }
 ],
 "metadata": {
  "language_info": {
   "name": "python"
  }
 },
 "nbformat": 4,
 "nbformat_minor": 0
}
